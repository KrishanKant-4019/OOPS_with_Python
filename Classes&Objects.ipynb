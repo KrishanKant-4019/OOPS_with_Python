{
 "cells": [
  {
   "cell_type": "markdown",
   "id": "bd777cc9-2e84-409f-8080-e9ef57a37978",
   "metadata": {},
   "source": [
    "# Classes and Objects"
   ]
  },
  {
   "cell_type": "markdown",
   "id": "a3bb57d4-26ab-4a98-8548-bfca5b5c8cce",
   "metadata": {},
   "source": [
    "# 1. Class -> A class is a blueprint for creating objects.\n",
    "# 2. Object -> An instance of class."
   ]
  },
  {
   "cell_type": "code",
   "execution_count": 7,
   "id": "8f5a0fb8-e0ce-416f-a337-06f7c32e8029",
   "metadata": {},
   "outputs": [
    {
     "name": "stdout",
     "output_type": "stream",
     "text": [
      "Name: Alice, Roll Number: 100\n",
      "Name: John, Roll Number: 134\n"
     ]
    }
   ],
   "source": [
    "# Example-1 -> Write a Python class Student with a constructor to initialize name and roll, \n",
    "# and a method display() that prints these details. Create two objects and call their display() methods.\n",
    "\n",
    "class Student:\n",
    "    def __init__(self, name, roll):\n",
    "        self.name = name\n",
    "        self.roll = roll\n",
    "\n",
    "    def display(self):\n",
    "        print(f\"Name: {self.name}, Roll Number: {self.roll}\")\n",
    "\n",
    "s1 = Student(\"Alice\", 100)\n",
    "s2 = Student(\"John\", 134)\n",
    "\n",
    "s1.display()\n",
    "s2.display()"
   ]
  },
  {
   "cell_type": "code",
   "execution_count": 8,
   "id": "4286fade-5161-48b7-91ba-7a482ba07200",
   "metadata": {},
   "outputs": [
    {
     "name": "stdout",
     "output_type": "stream",
     "text": [
      "Area of Rectangle: 20\n"
     ]
    }
   ],
   "source": [
    "# Example-2 -> Create a class Rectangle with attributes length and width. Add a method area() to return the area.\n",
    "\n",
    "class Rectangle:\n",
    "    def __init__(self, length, width):\n",
    "        self.length = length\n",
    "        self.width = width\n",
    "\n",
    "    def display_area(self):\n",
    "        return self.length * self.width\n",
    "\n",
    "rect = Rectangle(4, 5)\n",
    "\n",
    "area = rect.display_area()\n",
    "print(\"Area of Rectangle:\", area)"
   ]
  },
  {
   "cell_type": "code",
   "execution_count": 18,
   "id": "2638d724-e74c-4a20-b9d2-bc65b475cc95",
   "metadata": {},
   "outputs": [
    {
     "name": "stdout",
     "output_type": "stream",
     "text": [
      "Area of circle: 78.53981633974483\n",
      "Circumference of circle: 31.41592653589793\n"
     ]
    }
   ],
   "source": [
    "# Example-3 -> Create a class Circle with a method to compute area and circumference.\n",
    "import math\n",
    "\n",
    "class Circle:\n",
    "    def __init__(self, radius):\n",
    "        self.radius = radius\n",
    "\n",
    "    def display_area(self):\n",
    "        return math.pi * self.radius * self.radius\n",
    "\n",
    "    def display_circumference(self):\n",
    "        return 2 * math.pi * self.radius\n",
    "\n",
    "circle = Circle(5)\n",
    "\n",
    "area = circle.display_area()\n",
    "circumference = circle.display_circumference()\n",
    "\n",
    "print(\"Area of circle:\", area)\n",
    "print(\"Circumference of circle:\", circumference)"
   ]
  },
  {
   "cell_type": "code",
   "execution_count": 10,
   "id": "0819bdd9-9f70-4926-bfb4-6d0dff67de65",
   "metadata": {},
   "outputs": [
    {
     "name": "stdout",
     "output_type": "stream",
     "text": [
      "Book Title : World War, Book Author : Winston Churchill, Book Price : 1250\n"
     ]
    }
   ],
   "source": [
    "# Example-4 -> Define a class Book with attributes title, author, and price. Add a method display().\n",
    "class Book:\n",
    "    def __init__(self, title, author, price):\n",
    "        self.title = title\n",
    "        self.author = author\n",
    "        self.price = price\n",
    "\n",
    "    def display_details(self):\n",
    "        print(f\"Book Title : {self.title}, Book Author : {self.author}, Book Price : {self.price}\")\n",
    "\n",
    "book = Book(\"World War\", \"Winston Churchill\", 1250)\n",
    "book.display_details()"
   ]
  },
  {
   "cell_type": "code",
   "execution_count": 13,
   "id": "44064f22-0635-4672-9156-57c19c5b9551",
   "metadata": {},
   "outputs": [
    {
     "name": "stdout",
     "output_type": "stream",
     "text": [
      "Name : Krishan Kant Jha, Age : 19, Salary : 500000\n"
     ]
    }
   ],
   "source": [
    "# Example-5 -> Create an Employee class with name, age, and salary. Add a method get_details() to return all values in a string.\n",
    "\n",
    "class Employee:\n",
    "    def __init__(self, name, age, salary):\n",
    "        self.name = name\n",
    "        self.age = age\n",
    "        self.salary = salary\n",
    "\n",
    "    def get_details(self):\n",
    "        return f\"Name : {self.name}, Age : {self.age}, Salary : {self.salary}\"\n",
    "\n",
    "employee = Employee(\"Krishan Kant Jha\", 19, 500000)\n",
    "print(employee.get_details())"
   ]
  },
  {
   "cell_type": "code",
   "execution_count": 19,
   "id": "0e45adbf-97db-4c8a-a884-02fcc1d37336",
   "metadata": {},
   "outputs": [
    {
     "name": "stdout",
     "output_type": "stream",
     "text": [
      "Object created successfully!\n"
     ]
    }
   ],
   "source": [
    "# Example-6 -> Create a class Demo that prints a message when an object is created.(Using default Constructor)\n",
    "class Demo:\n",
    "    pass\n",
    "\n",
    "obj = Demo()\n",
    "print(\"Object created successfully!\")"
   ]
  },
  {
   "cell_type": "code",
   "execution_count": 24,
   "id": "40d8b3ad-a813-4302-9796-3e6b0ed0d16e",
   "metadata": {},
   "outputs": [
    {
     "name": "stdout",
     "output_type": "stream",
     "text": [
      "Total Marks: 283\n",
      "Average: 94.33333333333333\n",
      "Grade: A+\n"
     ]
    }
   ],
   "source": [
    "# Example-7 -> Create a class Student with name and marks in 3 subjects. Create methods to:\n",
    "# Calculate total\n",
    "# Calculate average\n",
    "# Determine grade\n",
    "\n",
    "class Student:\n",
    "    def __init__(self, name, physics, chemistry, maths):\n",
    "        self.name = name\n",
    "        self.physics = physics\n",
    "        self.chemistry = chemistry\n",
    "        self.maths = maths\n",
    "\n",
    "    def total_marks(self):\n",
    "        marks = self.physics + self.chemistry + self.maths\n",
    "        return marks\n",
    "\n",
    "    def average(self):\n",
    "        average = (self.total_marks())/3\n",
    "        return average\n",
    "\n",
    "    def grade(self):\n",
    "        avg = self.average()\n",
    "        if avg >= 90:\n",
    "            return \"A+\"\n",
    "        elif avg >= 75:\n",
    "            return \"A\"\n",
    "        elif avg >= 60:\n",
    "            return \"B\"\n",
    "        elif avg >= 50:\n",
    "            return \"C\"\n",
    "        else:\n",
    "            return \"F\"\n",
    "\n",
    "student = Student(\"Krishan Kant Jha\", 90, 95, 98)\n",
    "print(\"Total Marks:\", student.total_marks())\n",
    "print(\"Average:\", student.average())\n",
    "print(\"Grade:\", student.grade())"
   ]
  },
  {
   "cell_type": "code",
   "execution_count": 26,
   "id": "448c10b5-22e8-4ca7-86e7-185b7d915ce6",
   "metadata": {},
   "outputs": [
    {
     "name": "stdout",
     "output_type": "stream",
     "text": [
      "Account: 1234567890, Balance: ₹1000\n",
      "Deposited ₹500.New Balance : 1500\n",
      "Withdrew ₹300. New balance: ₹1200\n",
      "Insufficient Balance!\n",
      "Account: 1234567890, Balance: ₹1200\n"
     ]
    }
   ],
   "source": [
    "# Example-8 -> Create a class BankAccount with:\n",
    "#Attributes: account_number, balance\n",
    "# Methods: deposit(), withdraw(), display_balance()\n",
    "\n",
    "class BankAccount:\n",
    "    def __init__(self, account_number, balance = 0):\n",
    "        self.account_number = account_number\n",
    "        self.balance = balance\n",
    "\n",
    "    def deposit(self, amount):\n",
    "        self.balance += amount\n",
    "        print(f\"Deposited ₹{amount}.New Balance : {self.balance}\")\n",
    "\n",
    "    def withdraw(self, amount):\n",
    "        if amount <= self.balance:\n",
    "            self.balance -= amount\n",
    "            print(f\"Withdrew ₹{amount}. New balance: ₹{self.balance}\")\n",
    "        else:\n",
    "            print(\"Insufficient Balance!\")\n",
    "\n",
    "    def display_balance(self):\n",
    "        print(f\"Account: {self.account_number}, Balance: ₹{self.balance}\")\n",
    "\n",
    "account = BankAccount(\"1234567890\", 1000)\n",
    "account.display_balance()      \n",
    "account.deposit(500)           \n",
    "account.withdraw(300)          \n",
    "account.withdraw(1500)         \n",
    "account.display_balance()     "
   ]
  },
  {
   "cell_type": "code",
   "execution_count": 30,
   "id": "35a09cdf-3de6-4f52-9c0d-a59a87b86484",
   "metadata": {},
   "outputs": [
    {
     "name": "stdout",
     "output_type": "stream",
     "text": [
      "Add: 150\n",
      "Subtraction: 50\n",
      "Multiplication: 5000\n",
      "Division: 2.0\n"
     ]
    }
   ],
   "source": [
    "# Example-9 ->  Create a class Calculator with methods to perform:\n",
    "# Addition\n",
    "# Subtraction\n",
    "# Multiplication\n",
    "# Division\n",
    "\n",
    "class Calculator:\n",
    "    def __init__(self, num1, num2):\n",
    "        self.num1 = num1\n",
    "        self.num2 = num2\n",
    "\n",
    "    def addition(self):\n",
    "        return self.num1 + self.num2\n",
    "\n",
    "    def subtraction(self):\n",
    "        return self.num1 - self.num2\n",
    "\n",
    "    def multiplication(self):\n",
    "        return self.num1 * self.num2\n",
    "\n",
    "    def division(self):\n",
    "        if self.num2 == 0:\n",
    "            return \"Error! Division by zero.\"\n",
    "        return self.num1 / self.num2\n",
    "\n",
    "calculator = Calculator(100, 50)\n",
    "print(\"Add:\", calculator.addition())\n",
    "print(\"Subtraction:\", calculator.subtraction())\n",
    "print(\"Multiplication:\", calculator.multiplication())\n",
    "print(\"Division:\", calculator.division())"
   ]
  },
  {
   "cell_type": "code",
   "execution_count": 34,
   "id": "f2df691c-870d-4d36-adf7-e4a1313eaf50",
   "metadata": {},
   "outputs": [
    {
     "name": "stdout",
     "output_type": "stream",
     "text": [
      "37 degree celsius is equal to 98.60000000000001 degree fahrenheit\n",
      "99 degree fahrenheit is equal to 37.22222222222222 degree celsius\n"
     ]
    }
   ],
   "source": [
    "# Example-10 ->  Create a class that converts Celsius to Fahrenheit and vice versa.\n",
    "class Temperature_Converter:\n",
    "    def __init__(self, celsius, fahrenheit):\n",
    "        self.celsius = celsius\n",
    "        self.fahrenheit = fahrenheit\n",
    "\n",
    "    def Cel_to_Fah(self):\n",
    "        return (9/5.0) * self.celsius + 32\n",
    "\n",
    "    def Fah_to_Cel(self):\n",
    "        return (self.fahrenheit - 32) * 5/9.0\n",
    "\n",
    "temperature_converter = Temperature_Converter(37, 99)\n",
    "\n",
    "print(f\"{temperature_converter.celsius} degree celsius is equal to\", temperature_converter.Cel_to_Fah(), \"degree fahrenheit\")\n",
    "print(f\"{temperature_converter.fahrenheit} degree fahrenheit is equal to\", temperature_converter.Fah_to_Cel(), \"degree celsius\")"
   ]
  },
  {
   "cell_type": "code",
   "execution_count": 36,
   "id": "855086cd-6ce5-45c0-9a52-01b000490819",
   "metadata": {},
   "outputs": [
    {
     "name": "stdout",
     "output_type": "stream",
     "text": [
      "Quantity updated. New quantity: 15\n",
      "Total value of stock: ₹750000\n"
     ]
    }
   ],
   "source": [
    "# Example-11 ->  Create a class InventoryItem with:\n",
    "# Attributes: name, price, quantity\n",
    "# Method to update quantity\n",
    "# Method to compute total value of the item in stock\n",
    "\n",
    "class InventoryItem:\n",
    "    def __init__(self, name, price, quantity = 0):\n",
    "        self.name = name\n",
    "        self.price = price\n",
    "        self.quantity = quantity\n",
    "\n",
    "    def update_quantity(self, increment):\n",
    "        self.quantity += increment\n",
    "        print(f\"Quantity updated. New quantity: {self.quantity}\")\n",
    "\n",
    "    def total_value(self):\n",
    "        return self.price * self.quantity\n",
    "\n",
    "item = InventoryItem(\"Laptop\", 50000, 10)\n",
    "item.update_quantity(5)\n",
    "print(f\"Total value of stock: ₹{item.total_value()}\")"
   ]
  },
  {
   "cell_type": "code",
   "execution_count": 39,
   "id": "836a1027-e081-4edc-bbce-b3db1af4c3bc",
   "metadata": {},
   "outputs": [
    {
     "name": "stdout",
     "output_type": "stream",
     "text": [
      "Course Added! New Courses = ['Business Analytics', 'AI']\n",
      "Digital Marketing not found in enrolled courses.\n",
      "Name: Krishan Kant Jha, Student ID: 134, Courses: ['Business Analytics', 'AI']\n"
     ]
    }
   ],
   "source": [
    "# Example-12 -> Create a class Student that stores:\n",
    "# Student ID\n",
    "# Name\n",
    "# Courses (as a list)\n",
    "# Add methods to:\n",
    "# Add a course\n",
    "# Remove a course\n",
    "# Display student details\n",
    "\n",
    "class Student:\n",
    "    def __init__(self, ID, name, courses=None):\n",
    "        self.ID = ID\n",
    "        self.name = name\n",
    "        if courses is None:\n",
    "            self.courses = [\"Data Science\", \"Digital Marketing\", \"Graphic Designing\"]\n",
    "        else:\n",
    "            self.courses = [courses] if isinstance(courses, str) else courses\n",
    "\n",
    "    def add_course(self, course):\n",
    "        self.courses.append(course)\n",
    "        print(f\"Course Added! New Courses = {self.courses}\")\n",
    "\n",
    "    def remove_course(self, course):\n",
    "        if course in self.courses:\n",
    "            self.courses.remove(course)\n",
    "            print(f\"Course Removed! New Courses = {self.courses}\")\n",
    "        else:\n",
    "            print(f\"{course} not found in enrolled courses.\")\n",
    "\n",
    "    def display_details(self):\n",
    "        print(f\"Name: {self.name}, Student ID: {self.ID}, Courses: {self.courses}\")\n",
    "\n",
    "student = Student(134, \"Krishan Kant Jha\", \"Business Analytics\")\n",
    "student.add_course(\"AI\")\n",
    "student.remove_course(\"Digital Marketing\")\n",
    "student.display_details()"
   ]
  }
 ],
 "metadata": {
  "kernelspec": {
   "display_name": "Python [conda env:base] *",
   "language": "python",
   "name": "conda-base-py"
  },
  "language_info": {
   "codemirror_mode": {
    "name": "ipython",
    "version": 3
   },
   "file_extension": ".py",
   "mimetype": "text/x-python",
   "name": "python",
   "nbconvert_exporter": "python",
   "pygments_lexer": "ipython3",
   "version": "3.12.4"
  }
 },
 "nbformat": 4,
 "nbformat_minor": 5
}
