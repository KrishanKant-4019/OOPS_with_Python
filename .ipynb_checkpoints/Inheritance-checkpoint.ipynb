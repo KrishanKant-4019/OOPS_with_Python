{
 "cells": [
  {
   "cell_type": "markdown",
   "id": "e5b38145-41d7-4911-a294-4c5813e6cc11",
   "metadata": {},
   "source": [
    "# Inheritance"
   ]
  },
  {
   "cell_type": "code",
   "execution_count": null,
   "id": "851123ff-5281-4487-9533-7e1e4e62c60d",
   "metadata": {},
   "outputs": [],
   "source": [
    "# Inheritance allows a class (child/subclass) to acquire the properties and behaviors (methods/attributes) of another class (parent/superclass).\n",
    "# It promotes code reuse and enables polymorphism."
   ]
  },
  {
   "cell_type": "code",
   "execution_count": 1,
   "id": "a601ec6b-e6f9-4828-9288-b493ef06e6a2",
   "metadata": {},
   "outputs": [
    {
     "name": "stdout",
     "output_type": "stream",
     "text": [
      "Animal Speaks!\n",
      "Dog barks!\n"
     ]
    }
   ],
   "source": [
    "# Example-1 -> Create a base class Animal with a method speak().\n",
    "# Create a child class Dog that inherits from Animal. Add a method bark().\n",
    "\n",
    "class Animal:\n",
    "    def speak(self):\n",
    "        print(f\"Animal Speaks!\")\n",
    "\n",
    "class Dog(Animal):\n",
    "    def bark(self):\n",
    "        print(f\"Dog barks!\")\n",
    "\n",
    "d = Dog()\n",
    "d.speak() # Inherited from Animal\n",
    "d.bark()"
   ]
  },
  {
   "cell_type": "code",
   "execution_count": 11,
   "id": "d987e167-89af-4f1c-817c-00262ca0934c",
   "metadata": {},
   "outputs": [
    {
     "name": "stdout",
     "output_type": "stream",
     "text": [
      "Brand: Volkswagen\n",
      "Model: Jetta\n",
      "Fuel Type: Gasoline\n"
     ]
    }
   ],
   "source": [
    "# Example-2 -> Create a base class Vehicle with attributes like brand, model.\n",
    "# Create a subclass Car with an extra attribute fuel_type.\n",
    "\n",
    "class Vehicle:\n",
    "    def __init__(self, brand, model):\n",
    "        self.brand = brand\n",
    "        self.model = model\n",
    "\n",
    "class Car(Vehicle):\n",
    "    def __init__(self, brand, model, fuel_type):\n",
    "        super().__init__(brand, model)\n",
    "        self.fuel_type = fuel_type\n",
    "\n",
    "car = Car(\"Volkswagen\", \"Jetta\", \"Gasoline\")\n",
    "print(\"Brand:\", car.brand)\n",
    "print(\"Model:\", car.model)\n",
    "print(\"Fuel Type:\", car.fuel_type)"
   ]
  },
  {
   "cell_type": "code",
   "execution_count": 13,
   "id": "a40ea15a-c3e4-4db8-96a6-46d35ae15d36",
   "metadata": {},
   "outputs": [
    {
     "name": "stdout",
     "output_type": "stream",
     "text": [
      "Name : Krishan Kant Jha\n",
      "Roll Number : 134\n",
      "Research Topic : Machine Learning\n"
     ]
    }
   ],
   "source": [
    "# Example-3 -> Student and GraduateStudent\n",
    "# Base class: Student with name and roll number\n",
    "# Subclass: GraduateStudent with extra attribute research_topic\n",
    "\n",
    "class Student:\n",
    "    def __init__(self, name, roll_number):\n",
    "        self.name = name\n",
    "        self.roll_number = roll_number\n",
    "\n",
    "class GraduateStudent(Student):\n",
    "    def __init__(self, name, roll_number, research_topic):\n",
    "        super().__init__(name, roll_number)\n",
    "        self.research_topic = research_topic\n",
    "\n",
    "Gs = GraduateStudent(\"Krishan Kant Jha\", 134, \"Machine Learning\")\n",
    "print(f\"Name : {Gs.name}\")\n",
    "print(f\"Roll Number : {Gs.roll_number}\")\n",
    "print(f\"Research Topic : {Gs.research_topic}\")"
   ]
  },
  {
   "cell_type": "code",
   "execution_count": 16,
   "id": "bd61a5f9-05cd-4f40-8f67-47df793747de",
   "metadata": {},
   "outputs": [
    {
     "name": "stdout",
     "output_type": "stream",
     "text": [
      "Area of Rectangle: 20\n",
      "Area of Circle: 153.93804002589985\n"
     ]
    }
   ],
   "source": [
    "# Example-4 -> Shape Area Calculator\n",
    "# Base class: Shape with method area()\n",
    "# Subclass: Rectangle and Circle override area() with their formulas\n",
    "\n",
    "import math\n",
    "\n",
    "class Shape:\n",
    "    def area(self):\n",
    "        return 0\n",
    "\n",
    "class Rectangle(Shape):\n",
    "    def __init__(self, length, width):\n",
    "        self.length = length\n",
    "        self.width = width\n",
    "\n",
    "    def area(self):\n",
    "        return self.length * self.width\n",
    "\n",
    "class Circle(Shape):\n",
    "    def __init__(self, radius):\n",
    "        self.radius = radius\n",
    "\n",
    "    def area(self):\n",
    "        return math.pi * self.radius * self.radius\n",
    "\n",
    "rectangle = Rectangle(4,5)\n",
    "circle = Circle(7)\n",
    "print(\"Area of Rectangle:\", rectangle.area())\n",
    "print(\"Area of Circle:\", circle.area())"
   ]
  },
  {
   "cell_type": "code",
   "execution_count": 21,
   "id": "e6c27fdc-4e6f-4736-ae82-6be643d451ff",
   "metadata": {},
   "outputs": [
    {
     "name": "stdout",
     "output_type": "stream",
     "text": [
      "Money Deposited. New Balance : 15000\n",
      "Money Withdrawn. New Balance : 12000\n",
      "Interest Amount: 480.0\n"
     ]
    },
    {
     "data": {
      "text/plain": [
       "480.0"
      ]
     },
     "execution_count": 21,
     "metadata": {},
     "output_type": "execute_result"
    }
   ],
   "source": [
    "# Example-5 -> Bank Account Inheritance\n",
    "# Base class: BankAccount with deposit() and withdraw()\n",
    "# Subclass: SavingsAccount that adds interest_rate and method to calculate interest\n",
    "\n",
    "class BankAccount:\n",
    "    def __init__(self, balance=0):\n",
    "        self.balance = balance\n",
    "        \n",
    "    def deposit(self, amount):\n",
    "        self.balance += amount\n",
    "        print(f\"Money Deposited. New Balance : {self.balance}\")\n",
    "\n",
    "    def withdraw(self, amount):\n",
    "        if self.balance > 0:\n",
    "            self.balance -= amount\n",
    "        else:\n",
    "            print(\"Not Enough Money!\")\n",
    "        print(f\"Money Withdrawn. New Balance : {self.balance}\")\n",
    "\n",
    "class SavingAccount(BankAccount):\n",
    "    def __init__(self, balance=0, interest_rate=0.05):\n",
    "        super().__init__(balance)\n",
    "        self.interest_rate = interest_rate\n",
    "\n",
    "    def calculate_interest(self):\n",
    "        interest = self.balance * self.interest_rate\n",
    "        print(f\"Interest Amount: {interest}\")\n",
    "        return interest\n",
    "\n",
    "acc = SavingAccount(10000, 0.04)\n",
    "acc.deposit(5000)\n",
    "acc.withdraw(3000)\n",
    "acc.calculate_interest()"
   ]
  },
  {
   "cell_type": "code",
   "execution_count": 23,
   "id": "38b2518d-13a0-4ad5-9464-53b96df6b33b",
   "metadata": {},
   "outputs": [
    {
     "name": "stdout",
     "output_type": "stream",
     "text": [
      "Person speaks politely.\n",
      "Employee works in an organization.\n",
      "Manager manages a team.\n"
     ]
    }
   ],
   "source": [
    "# Example-6 -> Multilevel Inheritance \n",
    "# Class A: Person\n",
    "# Class B (inherits A): Employee\n",
    "# Class C (inherits B): Manager\n",
    "# Add methods at each level to show hierarchy\n",
    "\n",
    "class Person:\n",
    "    def speaks(self):\n",
    "        print(\"Person speaks politely.\")\n",
    "\n",
    "class Employee(Person):\n",
    "    def works(self):\n",
    "        print(\"Employee works in an organization.\")\n",
    "\n",
    "class Manager(Employee):\n",
    "    def manages(self):\n",
    "        print(\"Manager manages a team.\")\n",
    "\n",
    "manager = Manager()\n",
    "manager.speaks()\n",
    "manager.works()\n",
    "manager.manages()"
   ]
  },
  {
   "cell_type": "code",
   "execution_count": null,
   "id": "2d25cd6e-943e-44ba-a626-7f8f3f104e7c",
   "metadata": {},
   "outputs": [],
   "source": [
    "# Class Flyable with method fly()\n",
    "# Class Swimmable with method swim()\n",
    "# Class Duck inherits from both and implements both behaviors\n",
    "\n"
   ]
  }
 ],
 "metadata": {
  "kernelspec": {
   "display_name": "Python [conda env:base] *",
   "language": "python",
   "name": "conda-base-py"
  },
  "language_info": {
   "codemirror_mode": {
    "name": "ipython",
    "version": 3
   },
   "file_extension": ".py",
   "mimetype": "text/x-python",
   "name": "python",
   "nbconvert_exporter": "python",
   "pygments_lexer": "ipython3",
   "version": "3.12.4"
  }
 },
 "nbformat": 4,
 "nbformat_minor": 5
}
