{
 "cells": [
  {
   "cell_type": "markdown",
   "id": "e5b38145-41d7-4911-a294-4c5813e6cc11",
   "metadata": {},
   "source": [
    "# Inheritance"
   ]
  },
  {
   "cell_type": "code",
   "execution_count": null,
   "id": "851123ff-5281-4487-9533-7e1e4e62c60d",
   "metadata": {},
   "outputs": [],
   "source": [
    "# Inheritance allows a class (child/subclass) to acquire the properties and behaviors (methods/attributes) of another class (parent/superclass).\n",
    "# It promotes code reuse and enables polymorphism."
   ]
  },
  {
   "cell_type": "code",
   "execution_count": 1,
   "id": "a601ec6b-e6f9-4828-9288-b493ef06e6a2",
   "metadata": {},
   "outputs": [
    {
     "name": "stdout",
     "output_type": "stream",
     "text": [
      "Animal Speaks!\n",
      "Dog barks!\n"
     ]
    }
   ],
   "source": [
    "# Example-1 -> Create a base class Animal with a method speak().\n",
    "# Create a child class Dog that inherits from Animal. Add a method bark().\n",
    "\n",
    "class Animal:\n",
    "    def speak(self):\n",
    "        print(f\"Animal Speaks!\")\n",
    "\n",
    "class Dog(Animal):\n",
    "    def bark(self):\n",
    "        print(f\"Dog barks!\")\n",
    "\n",
    "d = Dog()\n",
    "d.speak() # Inherited from Animal\n",
    "d.bark()"
   ]
  },
  {
   "cell_type": "code",
   "execution_count": 11,
   "id": "d987e167-89af-4f1c-817c-00262ca0934c",
   "metadata": {},
   "outputs": [
    {
     "name": "stdout",
     "output_type": "stream",
     "text": [
      "Brand: Volkswagen\n",
      "Model: Jetta\n",
      "Fuel Type: Gasoline\n"
     ]
    }
   ],
   "source": [
    "# Example-2 -> Create a base class Vehicle with attributes like brand, model.\n",
    "# Create a subclass Car with an extra attribute fuel_type.\n",
    "\n",
    "class Vehicle:\n",
    "    def __init__(self, brand, model):\n",
    "        self.brand = brand\n",
    "        self.model = model\n",
    "\n",
    "class Car(Vehicle):\n",
    "    def __init__(self, brand, model, fuel_type):\n",
    "        super().__init__(brand, model)\n",
    "        self.fuel_type = fuel_type\n",
    "\n",
    "car = Car(\"Volkswagen\", \"Jetta\", \"Gasoline\")\n",
    "print(\"Brand:\", car.brand)\n",
    "print(\"Model:\", car.model)\n",
    "print(\"Fuel Type:\", car.fuel_type)"
   ]
  },
  {
   "cell_type": "code",
   "execution_count": 13,
   "id": "a40ea15a-c3e4-4db8-96a6-46d35ae15d36",
   "metadata": {},
   "outputs": [
    {
     "name": "stdout",
     "output_type": "stream",
     "text": [
      "Name : Krishan Kant Jha\n",
      "Roll Number : 134\n",
      "Research Topic : Machine Learning\n"
     ]
    }
   ],
   "source": [
    "# Example-3 -> Student and GraduateStudent\n",
    "# Base class: Student with name and roll number\n",
    "# Subclass: GraduateStudent with extra attribute research_topic\n",
    "\n",
    "class Student:\n",
    "    def __init__(self, name, roll_number):\n",
    "        self.name = name\n",
    "        self.roll_number = roll_number\n",
    "\n",
    "class GraduateStudent(Student):\n",
    "    def __init__(self, name, roll_number, research_topic):\n",
    "        super().__init__(name, roll_number)\n",
    "        self.research_topic = research_topic\n",
    "\n",
    "Gs = GraduateStudent(\"Krishan Kant Jha\", 134, \"Machine Learning\")\n",
    "print(f\"Name : {Gs.name}\")\n",
    "print(f\"Roll Number : {Gs.roll_number}\")\n",
    "print(f\"Research Topic : {Gs.research_topic}\")"
   ]
  },
  {
   "cell_type": "code",
   "execution_count": 16,
   "id": "bd61a5f9-05cd-4f40-8f67-47df793747de",
   "metadata": {},
   "outputs": [
    {
     "name": "stdout",
     "output_type": "stream",
     "text": [
      "Area of Rectangle: 20\n",
      "Area of Circle: 153.93804002589985\n"
     ]
    }
   ],
   "source": [
    "# Example-4 -> Shape Area Calculator\n",
    "# Base class: Shape with method area()\n",
    "# Subclass: Rectangle and Circle override area() with their formulas\n",
    "\n",
    "import math\n",
    "\n",
    "class Shape:\n",
    "    def area(self):\n",
    "        return 0\n",
    "\n",
    "class Rectangle(Shape):\n",
    "    def __init__(self, length, width):\n",
    "        self.length = length\n",
    "        self.width = width\n",
    "\n",
    "    def area(self):\n",
    "        return self.length * self.width\n",
    "\n",
    "class Circle(Shape):\n",
    "    def __init__(self, radius):\n",
    "        self.radius = radius\n",
    "\n",
    "    def area(self):\n",
    "        return math.pi * self.radius * self.radius\n",
    "\n",
    "rectangle = Rectangle(4,5)\n",
    "circle = Circle(7)\n",
    "print(\"Area of Rectangle:\", rectangle.area())\n",
    "print(\"Area of Circle:\", circle.area())"
   ]
  },
  {
   "cell_type": "code",
   "execution_count": 21,
   "id": "e6c27fdc-4e6f-4736-ae82-6be643d451ff",
   "metadata": {},
   "outputs": [
    {
     "name": "stdout",
     "output_type": "stream",
     "text": [
      "Money Deposited. New Balance : 15000\n",
      "Money Withdrawn. New Balance : 12000\n",
      "Interest Amount: 480.0\n"
     ]
    },
    {
     "data": {
      "text/plain": [
       "480.0"
      ]
     },
     "execution_count": 21,
     "metadata": {},
     "output_type": "execute_result"
    }
   ],
   "source": [
    "# Example-5 -> Bank Account Inheritance\n",
    "# Base class: BankAccount with deposit() and withdraw()\n",
    "# Subclass: SavingsAccount that adds interest_rate and method to calculate interest\n",
    "\n",
    "class BankAccount:\n",
    "    def __init__(self, balance=0):\n",
    "        self.balance = balance\n",
    "        \n",
    "    def deposit(self, amount):\n",
    "        self.balance += amount\n",
    "        print(f\"Money Deposited. New Balance : {self.balance}\")\n",
    "\n",
    "    def withdraw(self, amount):\n",
    "        if self.balance > 0:\n",
    "            self.balance -= amount\n",
    "        else:\n",
    "            print(\"Not Enough Money!\")\n",
    "        print(f\"Money Withdrawn. New Balance : {self.balance}\")\n",
    "\n",
    "class SavingAccount(BankAccount):\n",
    "    def __init__(self, balance=0, interest_rate=0.05):\n",
    "        super().__init__(balance)\n",
    "        self.interest_rate = interest_rate\n",
    "\n",
    "    def calculate_interest(self):\n",
    "        interest = self.balance * self.interest_rate\n",
    "        print(f\"Interest Amount: {interest}\")\n",
    "        return interest\n",
    "\n",
    "acc = SavingAccount(10000, 0.04)\n",
    "acc.deposit(5000)\n",
    "acc.withdraw(3000)\n",
    "acc.calculate_interest()"
   ]
  },
  {
   "cell_type": "code",
   "execution_count": 5,
   "id": "38b2518d-13a0-4ad5-9464-53b96df6b33b",
   "metadata": {},
   "outputs": [
    {
     "name": "stdout",
     "output_type": "stream",
     "text": [
      "Manager manages a team.\n",
      "Person speaks politely.\n",
      "Employee works in an organization.\n"
     ]
    }
   ],
   "source": [
    "# Example-6 -> Multilevel Inheritance \n",
    "# Class A: Person\n",
    "# Class B (inherits A): Employee\n",
    "# Class C (inherits B): Manager\n",
    "# Add methods at each level to show hierarchy\n",
    "\n",
    "class Person:\n",
    "    def speaks(self):\n",
    "        print(\"Person speaks politely.\")\n",
    "\n",
    "class Employee(Person):\n",
    "    def works(self):\n",
    "        print(\"Employee works in an organization.\")\n",
    "\n",
    "class Manager(Employee):\n",
    "    def manages(self):\n",
    "        print(\"Manager manages a team.\")\n",
    "        \n",
    "manager = Manager()\n",
    "manager.speaks()\n",
    "manager.works()\n",
    "manager.manages()"
   ]
  },
  {
   "cell_type": "code",
   "execution_count": 2,
   "id": "2d25cd6e-943e-44ba-a626-7f8f3f104e7c",
   "metadata": {},
   "outputs": [
    {
     "name": "stdout",
     "output_type": "stream",
     "text": [
      "Birds are flying in the sky!\n",
      "Birds are swimming in the river!\n"
     ]
    }
   ],
   "source": [
    "# Example-7 -> Class Flyable with method fly()\n",
    "# Class Swimmable with method swim()\n",
    "# Class Duck inherits from both and implements both behaviors\n",
    "\n",
    "class Flyable:\n",
    "    def fly(self):\n",
    "        print(\"Birds are flying in the sky!\")\n",
    "\n",
    "class Swimmable:\n",
    "    def swim(self):\n",
    "        print(\"Birds are swimming in the river!\")\n",
    "\n",
    "class Duck(Flyable, Swimmable):\n",
    "    def show_behaviors(self):\n",
    "        self.fly()\n",
    "        self.swim()\n",
    "\n",
    "d = Duck()\n",
    "d.show_behaviors()"
   ]
  },
  {
   "cell_type": "code",
   "execution_count": 9,
   "id": "30037922-c650-4fca-9672-513de8f78831",
   "metadata": {},
   "outputs": [
    {
     "name": "stdout",
     "output_type": "stream",
     "text": [
      "ColorPrinter prints colored pages!\n"
     ]
    }
   ],
   "source": [
    "# Example-8 -> Method Overriding\n",
    "# Class Printer has method print()\n",
    "# Class ColorPrinter overrides print() with colored output\n",
    "\n",
    "class Printer:\n",
    "    def print(self):\n",
    "        print(\"Printer prints paper!\")\n",
    "\n",
    "class ColorPrinter(Printer):  \n",
    "    def print(self):          \n",
    "        print(\"ColorPrinter prints colored pages!\")\n",
    "\n",
    "p1 = Printer()\n",
    "p1.print()\n",
    "\n",
    "p2 = ColorPrinter()\n",
    "p2.print()"
   ]
  },
  {
   "cell_type": "code",
   "execution_count": 13,
   "id": "864e17a4-9884-4bc5-843a-5ff3e7e0a8a5",
   "metadata": {},
   "outputs": [
    {
     "name": "stdout",
     "output_type": "stream",
     "text": [
      "12\n",
      "4\n",
      "32\n",
      "2.0\n"
     ]
    }
   ],
   "source": [
    "# Example-9 -> Show how child class can use super().__init__() to call parent constructor\n",
    "class Calculator:\n",
    "    def __init__(self, num1, num2):\n",
    "        self.num1 = num1\n",
    "        self.num2 = num2\n",
    "\n",
    "    def add(self):\n",
    "        return self.num1 + self.num2\n",
    "\n",
    "    def subtract(self):\n",
    "        return self.num1 - self.num2\n",
    "\n",
    "    def multiply(self):\n",
    "        return self.num1 * self.num2\n",
    "\n",
    "class Division(Calculator):\n",
    "    def __init__(self, num1, num2):\n",
    "        super().__init__(num1, num2)  \n",
    "\n",
    "    def divide(self):\n",
    "        return self.num1 / self.num2\n",
    "\n",
    "div = Division(8, 4)\n",
    "print(div.add())\n",
    "print(div.subtract())\n",
    "print(div.multiply())\n",
    "print(div.divide())"
   ]
  },
  {
   "cell_type": "code",
   "execution_count": 15,
   "id": "f192ad80-3c2b-4b61-96a4-09c3c5ac485c",
   "metadata": {},
   "outputs": [
    {
     "name": "stdout",
     "output_type": "stream",
     "text": [
      "Alice is studying.\n",
      "Alice is playing Cricket.\n",
      "Mr. Smith is teaching in the classroom.\n",
      "Mr. Smith is evaluating student assignments.\n"
     ]
    }
   ],
   "source": [
    "# Example-10 -> Create a School Management System\n",
    "# Base class: Person with name, age\n",
    "# Subclasses: Student, Teacher\n",
    "# Add methods specific to each (e.g., study(), teach())\n",
    "\n",
    "class Person:\n",
    "    def __init__(self, name, age):\n",
    "        self.name = name\n",
    "        self.age = age\n",
    "\n",
    "class Student(Person):\n",
    "    def study(self):\n",
    "        print(f\"{self.name} is studying.\")\n",
    "\n",
    "    def play(self):\n",
    "        print(f\"{self.name} is playing Cricket.\")\n",
    "\n",
    "class Teacher(Person):\n",
    "    def teach(self):\n",
    "        print(f\"{self.name} is teaching in the classroom.\")\n",
    "\n",
    "    def evaluate(self):\n",
    "        print(f\"{self.name} is evaluating student assignments.\")\n",
    "\n",
    "student1 = Student(\"Alice\", 16)\n",
    "teacher1 = Teacher(\"Mr. Smith\", 40)\n",
    "\n",
    "student1.study()\n",
    "student1.play()\n",
    "\n",
    "teacher1.teach()\n",
    "teacher1.evaluate()"
   ]
  }
 ],
 "metadata": {
  "kernelspec": {
   "display_name": "Python [conda env:base] *",
   "language": "python",
   "name": "conda-base-py"
  },
  "language_info": {
   "codemirror_mode": {
    "name": "ipython",
    "version": 3
   },
   "file_extension": ".py",
   "mimetype": "text/x-python",
   "name": "python",
   "nbconvert_exporter": "python",
   "pygments_lexer": "ipython3",
   "version": "3.12.4"
  }
 },
 "nbformat": 4,
 "nbformat_minor": 5
}
